{
 "cells": [
  {
   "cell_type": "code",
   "execution_count": 10,
   "metadata": {},
   "outputs": [],
   "source": [
    "import os\n",
    "from utils import convert_coco_to_yolo_polygons \n",
    "from datasets import load_dataset"
   ]
  },
  {
   "cell_type": "code",
   "execution_count": 11,
   "metadata": {},
   "outputs": [],
   "source": [
    "def convert_coco_to_yolo_polygons(coco_polygons, image_width, image_height):\n",
    "    \"\"\"\n",
    "    Converts COCO style polygons to a normalized YOLO style format, outputting a single list\n",
    "    of coordinates.\n",
    "\n",
    "    Parameters:\n",
    "    - coco_polygons: List of polygons, each represented as a flat list of points.\n",
    "    - image_width: The width of the original image.\n",
    "    - image_height: The height of the original image.\n",
    "\n",
    "    Returns:\n",
    "    - List of coordinates in YOLO format, normalized by the image dimensions and flattened into a single list.\n",
    "    \"\"\"\n",
    "    yolo_coordinates = []\n",
    "    for polygon in coco_polygons:\n",
    "        for i in range(0, len(polygon), 2):\n",
    "            x_normalized = polygon[i] / image_width\n",
    "            y_normalized = polygon[i + 1] / image_height\n",
    "            yolo_coordinates.extend([x_normalized, y_normalized])\n",
    "\n",
    "    return yolo_coordinates"
   ]
  },
  {
   "cell_type": "code",
   "execution_count": 12,
   "metadata": {},
   "outputs": [],
   "source": [
    "# Make the train and val directories for images and labels \n",
    "def make_yolo_dirs(parent_dir):\n",
    "    train_dir = os.path.join(parent_dir, \"images\", \"train\")\n",
    "    train_labels = os.path.join(parent_dir, \"labels\", \"train\")\n",
    "\n",
    "    val_dir = os.path.join(parent_dir, \"images\", \"val\")\n",
    "    val_labels = os.path.join(parent_dir, \"labels\", \"val\")\n",
    "\n",
    "    os.makedirs(train_dir, exist_ok=True)\n",
    "    os.makedirs(val_dir, exist_ok=True)\n",
    "    os.makedirs(train_labels, exist_ok=True)\n",
    "    os.makedirs(val_labels, exist_ok=True)\n",
    "    return train_dir, val_dir"
   ]
  },
  {
   "cell_type": "code",
   "execution_count": 13,
   "metadata": {},
   "outputs": [],
   "source": [
    "def normalize_box(bbox, image_width, image_height):\n",
    "    \"\"\"\n",
    "    Normalizes bounding box coordinates based on image dimensions.\n",
    "\n",
    "    Parameters:\n",
    "    - bbox: List of bounding box coordinates in the format [x_min, y_min, x_max, y_max].\n",
    "    - image_width: The width of the image.\n",
    "    - image_height: The height of the image.\n",
    "\n",
    "    Returns:\n",
    "    - List of normalized bounding box coordinates.\n",
    "    \"\"\"\n",
    "    x_min, y_min, x_max, y_max = bbox\n",
    "    x_min_normalized = x_min / image_width\n",
    "    y_min_normalized = y_min / image_height\n",
    "    x_max_normalized = x_max / image_width\n",
    "    y_max_normalized = y_max / image_height\n",
    "\n",
    "    return [x_min_normalized, y_min_normalized, x_max_normalized, y_max_normalized]"
   ]
  },
  {
   "cell_type": "code",
   "execution_count": 14,
   "metadata": {},
   "outputs": [],
   "source": [
    "# Write the yolo formatted label id and polygons for each detection in the image\n",
    "def get_lines(md, image_width, image_height):\n",
    "    lines = []\n",
    "\n",
    "    for row in md:\n",
    "        label = row.get(\"label\")\n",
    "        label_id = row.get(\"label_id\")\n",
    "        box = row.get(\"box\")\n",
    "        box = normalize_box(box, image_width, image_height)\n",
    "        box_str = \" \".join([str(coord) for coord in box])\n",
    "\n",
    "        coco_polygons = row.get(\"polygons\")\n",
    "\n",
    "        yolo_polygons = convert_coco_to_yolo_polygons(\n",
    "            coco_polygons, image_width, image_height\n",
    "        )\n",
    "        yolo_polygons_str = \" \".join([str(coord) for coord in yolo_polygons])\n",
    "        yolo_line = f\"{label_id} {box_str} {yolo_polygons_str}\"\n",
    "        lines.append(yolo_line)\n",
    "    return lines"
   ]
  },
  {
   "cell_type": "code",
   "execution_count": 15,
   "metadata": {},
   "outputs": [],
   "source": [
    "# Save the image and the text file\n",
    "\n",
    "def write_image_and_text_file(image, image_name, lines, output_dir):\n",
    "    image_path = os.path.join(output_dir, image_name)\n",
    "\n",
    "    image_uuid = image_name.split(\".\")[0]\n",
    "    text_name = f\"{image_uuid}.txt\"\n",
    "\n",
    "    text_output_dir = output_dir.replace(\"images\", \"labels\")\n",
    "    text_path = os.path.join(text_output_dir, text_name)\n",
    "\n",
    "    if image.mode != \"RGB\":\n",
    "        image = image.convert(\"RGB\")\n",
    "        \n",
    "    image.save(image_path)\n",
    "\n",
    "    text_file = \"\\n\".join(lines)\n",
    "    with open(text_path, \"w\") as f:\n",
    "        f.write(text_file)"
   ]
  },
  {
   "cell_type": "code",
   "execution_count": 16,
   "metadata": {},
   "outputs": [],
   "source": [
    "def format_and_write(row, output_dir):\n",
    "    image = row.get('image')\n",
    "    width = row.get('width')\n",
    "    height = row.get('height')\n",
    "    md = row.get('mask_metadata')\n",
    "    if md:\n",
    "        image_name = row.get('image_id')\n",
    "        lines = get_lines(md, width, height)\n",
    "        write_image_and_text_file(image, image_name, lines, output_dir)\n"
   ]
  },
  {
   "cell_type": "code",
   "execution_count": 17,
   "metadata": {},
   "outputs": [],
   "source": [
    "repo_id = \"jordandavis/fashion_test\"\n",
    "workers = os.cpu_count()\n",
    "ds = load_dataset(repo_id, split='train', trust_remote_code=True, num_proc=workers)\n",
    "\n",
    "ds = ds.train_test_split(train_size=0.8)\n",
    "train = ds[\"train\"]\n",
    "val = ds[\"test\"]"
   ]
  },
  {
   "cell_type": "code",
   "execution_count": 18,
   "metadata": {},
   "outputs": [],
   "source": [
    "parent_dir = \"datasets/fashion_five\"\n",
    "\n",
    "# Make directories\n",
    "train_dir, val_dir = make_yolo_dirs(parent_dir)\n",
    "\n",
    "\n",
    "for dataset, output_dir in zip([train, val], [train_dir, val_dir]):\n",
    "    \n",
    "    iterable = map(format_and_write, dataset, [output_dir]*len(dataset))\n",
    "    for _ in iterable:\n",
    "        pass\n"
   ]
  }
 ],
 "metadata": {
  "kernelspec": {
   "display_name": "groundingdino",
   "language": "python",
   "name": "groundingdino"
  },
  "language_info": {
   "codemirror_mode": {
    "name": "ipython",
    "version": 3
   },
   "file_extension": ".py",
   "mimetype": "text/x-python",
   "name": "python",
   "nbconvert_exporter": "python",
   "pygments_lexer": "ipython3",
   "version": "3.10.12"
  },
  "orig_nbformat": 4
 },
 "nbformat": 4,
 "nbformat_minor": 2
}
