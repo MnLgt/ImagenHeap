{
 "cells": [
  {
   "cell_type": "code",
   "execution_count": 1,
   "id": "f94c3a5c-465f-47dd-adb5-44be3a9970c8",
   "metadata": {},
   "outputs": [],
   "source": [
    "import os\n",
    "import torch\n",
    "import torch.nn as nn\n",
    "from huggingface_hub import PyTorchModelHubMixin\n",
    "from ultralytics import YOLO \n",
    "from huggingface_hub import create_repo\n",
    "from dotenv import load_dotenv, find_dotenv"
   ]
  },
  {
   "cell_type": "markdown",
   "id": "5e74e66a",
   "metadata": {},
   "source": [
    "### This notebook is for pushing a yolo model to the hub"
   ]
  },
  {
   "cell_type": "code",
   "execution_count": 15,
   "id": "7b3a4035-5cfb-40d7-a885-158ad8b13f1a",
   "metadata": {},
   "outputs": [],
   "source": [
    "\n",
    "load_dotenv(find_dotenv())\n",
    "token = os.getenv('HUGGINGFACEHUB_API_TOKEN')"
   ]
  },
  {
   "cell_type": "code",
   "execution_count": 16,
   "id": "0ae2e645-1259-431e-9110-d0a47331cba8",
   "metadata": {},
   "outputs": [
    {
     "data": {
      "text/plain": [
       "device(type='cpu')"
      ]
     },
     "execution_count": 16,
     "metadata": {},
     "output_type": "execute_result"
    }
   ],
   "source": [
    "# Load the model with torch\n",
    "model_path = \"/workspace/SEGMENT/human_parsing_new/train/weights/best.pt\"\n",
    "model = YOLO(model_path, task='segment')\n",
    "model.device"
   ]
  },
  {
   "cell_type": "code",
   "execution_count": 19,
   "id": "f6082b96-4ae8-4ad1-aa3e-e3af08f048dd",
   "metadata": {},
   "outputs": [],
   "source": [
    "epoch = torch.load(model_path).get('epoch') + 125"
   ]
  },
  {
   "cell_type": "code",
   "execution_count": 12,
   "id": "d0ab278b-864e-44b6-9680-3c9232d37fcf",
   "metadata": {},
   "outputs": [
    {
     "name": "stdout",
     "output_type": "stream",
     "text": [
      "weights/yolo-human-parse-epoch-15.pt\n"
     ]
    }
   ],
   "source": [
    "# Set the save path \n",
    "save_path = f'weights/yolo-human-parse-epoch-{epoch}.pt'\n",
    "print(save_path)"
   ]
  },
  {
   "cell_type": "code",
   "execution_count": 13,
   "id": "600cb636-3afb-419c-9f7f-38c8d8ce347a",
   "metadata": {},
   "outputs": [],
   "source": [
    "model.save(save_path)"
   ]
  },
  {
   "cell_type": "code",
   "execution_count": 17,
   "id": "4914e02a-2c2c-43a7-85f2-0b23f66494e0",
   "metadata": {},
   "outputs": [
    {
     "data": {
      "text/plain": [
       "RepoUrl('https://huggingface.co/jordandavis/yolo-human-parse', endpoint='https://huggingface.co', repo_type='model', repo_id='jordandavis/yolo-human-parse')"
      ]
     },
     "execution_count": 17,
     "metadata": {},
     "output_type": "execute_result"
    }
   ],
   "source": [
    "repo_id = \"jordandavis/yolo-human-parse\"\n",
    "create_repo(repo_id=repo_id, private=True, exist_ok=True, repo_type='model', token=token)"
   ]
  },
  {
   "cell_type": "code",
   "execution_count": 21,
   "id": "130a8b0b-0f96-4011-ba5a-4b280a096c76",
   "metadata": {},
   "outputs": [
    {
     "data": {
      "application/vnd.jupyter.widget-view+json": {
       "model_id": "8e9717da4508406b836554f055d7b186",
       "version_major": 2,
       "version_minor": 0
      },
      "text/plain": [
       "yolo-human-parse-epoch-15.pt:   0%|          | 0.00/431M [00:00<?, ?B/s]"
      ]
     },
     "metadata": {},
     "output_type": "display_data"
    },
    {
     "data": {
      "text/plain": [
       "CommitInfo(commit_url='https://huggingface.co/jordandavis/yolo-human-parse/commit/2982655a9cdbd9db62803f9fc664ea5a033876bd', commit_message='Upload yolo-human-parse-epoch-125.pt with huggingface_hub', commit_description='', oid='2982655a9cdbd9db62803f9fc664ea5a033876bd', pr_url=None, pr_revision=None, pr_num=None)"
      ]
     },
     "execution_count": 21,
     "metadata": {},
     "output_type": "execute_result"
    }
   ],
   "source": [
    "from huggingface_hub import HfApi\n",
    "api = HfApi()\n",
    "api.upload_file(\n",
    "    path_or_fileobj=save_path,\n",
    "    path_in_repo=f'yolo-human-parse-epoch-{epoch}.pt',\n",
    "    repo_id=repo_id,\n",
    "    repo_type=\"model\",\n",
    "    token=token\n",
    ")"
   ]
  },
  {
   "cell_type": "code",
   "execution_count": null,
   "id": "af2bd11f-0fb1-4eee-be4a-02979c7f7275",
   "metadata": {},
   "outputs": [],
   "source": []
  }
 ],
 "metadata": {
  "kernelspec": {
   "display_name": "venv",
   "language": "python",
   "name": "python3"
  },
  "language_info": {
   "codemirror_mode": {
    "name": "ipython",
    "version": 3
   },
   "file_extension": ".py",
   "mimetype": "text/x-python",
   "name": "python",
   "nbconvert_exporter": "python",
   "pygments_lexer": "ipython3",
   "version": "3.10.12"
  }
 },
 "nbformat": 4,
 "nbformat_minor": 5
}
