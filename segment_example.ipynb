{
 "cells": [
  {
   "cell_type": "code",
   "execution_count": null,
   "metadata": {},
   "outputs": [],
   "source": [
    "import sys\n",
    "\n",
    "sys.path.append(\"..\")"
   ]
  },
  {
   "cell_type": "markdown",
   "metadata": {},
   "source": [
    "### Test"
   ]
  },
  {
   "cell_type": "code",
   "execution_count": null,
   "metadata": {},
   "outputs": [],
   "source": [
    "from typing import List, Dict\n",
    "from pathlib import Path\n",
    "from PIL import Image\n",
    "from segment.utils import resize_image_pil\n",
    "from segment.dino_script import get_dino_results\n",
    "from segment.sam_script import get_sam_results\n",
    "from segment.utils import get_device\n",
    "from segment.sam_results import SAMResults\n",
    "from diffusers.utils import load_image\n",
    "from segment.sam_script import get_sam_results\n",
    "\n",
    "DEVICE = get_device()\n",
    "\n",
    "\n",
    "def load_resize_image(image_path):\n",
    "    image_pil = load_image(image_path).convert(\"RGB\")\n",
    "    image_pil = resize_image_pil(image_pil, 1024)\n",
    "    return image_pil\n",
    "\n",
    "\n",
    "def get_masks(\n",
    "    text_prompt, image_paths: List[str], labels_dict: Dict[str, int], **kwargs\n",
    ") -> SAMResults:\n",
    "    device = get_device()\n",
    "\n",
    "    images = [load_resize_image(url) for url in image_paths]\n",
    "\n",
    "    # Get the boxes from the prompts using DINO\n",
    "    global dino_results\n",
    "    dino_results = get_dino_results(images, text_prompt, device, **kwargs)\n",
    "\n",
    "    # Get the masks from the images and boxes using SAM\n",
    "    unformatted_results = get_sam_results(images, dino_results, text_prompt, device)\n",
    "\n",
    "    sam_results = SAMResults(\n",
    "        images[0], labels_dict, **unformatted_results[0], person_masks_only=False,**kwargs\n",
    "    )\n",
    "    return sam_results"
   ]
  },
  {
   "cell_type": "code",
   "execution_count": null,
   "metadata": {},
   "outputs": [],
   "source": [
    "text_prompt = [\"hair\", \"face\", \"neck\", \"arm\", \"hand\", \"back\", \"leg\", \"clothing\", \"phone\", \"hat\", \"foot\"]\n",
    "\n",
    "text_prompt = \".\".join(text_prompt)\n",
    "\n",
    "labels_dict = {prompt.strip(): idx for idx, prompt in enumerate(text_prompt.split(\".\"))}\n",
    "\n",
    "\n",
    "url = \"https://i.pinimg.com/originals/68/82/ce/6882cefe21f75234697e8508eb6a3232.jpg\"\n",
    "url = \"/Users/jordandavis/Downloads/hailey.webp\"\n",
    "\n",
    "sam_results = get_masks(text_prompt, [url], labels_dict, box_threshold=0.3, text_threshold=0.25)\n",
    "\n",
    "sam_results.display_results()"
   ]
  },
  {
   "cell_type": "code",
   "execution_count": null,
   "metadata": {},
   "outputs": [],
   "source": [
    "import numpy as np \n",
    "\n",
    "sam_scores = np.array(sam_results.scores)\n",
    "\n",
    "dino_scores = dino_results.scores[0].cpu().numpy()\n",
    "\n",
    "np.mean([sam_scores, dino_scores], axis=0)\n"
   ]
  },
  {
   "cell_type": "code",
   "execution_count": 6,
   "metadata": {},
   "outputs": [
    {
     "data": {
      "text/plain": [
       "[tensor([[ 393.4577,  119.5898,  648.7547,  424.5431],\n",
       "         [ 224.5373,  440.3598,  805.0222, 1022.4713]])]"
      ]
     },
     "execution_count": 6,
     "metadata": {},
     "output_type": "execute_result"
    }
   ],
   "source": [
    "dino_results.boxes"
   ]
  }
 ],
 "metadata": {
  "kernelspec": {
   "display_name": "groundingdino",
   "language": "python",
   "name": "python3"
  },
  "language_info": {
   "codemirror_mode": {
    "name": "ipython",
    "version": 3
   },
   "file_extension": ".py",
   "mimetype": "text/x-python",
   "name": "python",
   "nbconvert_exporter": "python",
   "pygments_lexer": "ipython3",
   "version": "3.10.13"
  },
  "orig_nbformat": 4
 },
 "nbformat": 4,
 "nbformat_minor": 2
}
