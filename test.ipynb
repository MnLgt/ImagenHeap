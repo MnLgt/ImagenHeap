{
 "cells": [
  {
   "cell_type": "code",
   "execution_count": null,
   "metadata": {},
   "outputs": [],
   "source": [
    "import os\n",
    "import random\n",
    "\n",
    "from grounded_sam import get_results\n",
    "from PIL import Image\n",
    "import numpy as np\n",
    "from diffusers.utils import make_image_grid\n",
    "from utils import (\n",
    "    display_image_with_masks,\n",
    "    unload_mask,\n",
    "    unload_box,\n",
    "    format_results,\n",
    "    convert_mask_to_coco_polygons,\n",
    "    resize_preserve_aspect_ratio,\n",
    "    get_coco_style_polygons,\n",
    "    convert_coco_to_yolo_polygons,\n",
    ")\n",
    "from sam_results import SAMResults\n",
    "from tqdm.notebook import tqdm\n",
    "from datasets import load_dataset"
   ]
  },
  {
   "cell_type": "markdown",
   "metadata": {},
   "source": [
    "## Final"
   ]
  },
  {
   "cell_type": "code",
   "execution_count": null,
   "metadata": {},
   "outputs": [],
   "source": [
    "# detection_labels = [\n",
    "#     \"hair\",\n",
    "#     \"face\",\n",
    "#     \"neck\",\n",
    "#     \"arm\",\n",
    "#     \"hand\",\n",
    "#     \"back\",\n",
    "#     \"leg\",\n",
    "#     \"foot\",\n",
    "#     \"outfit\",\n",
    "#     \"person\",\n",
    "#     \"phone\",\n",
    "# ]\n",
    "\n",
    "# # make an enumerated dictionary\n",
    "# labels_dict = {label: i for i, label in enumerate(detection_labels)}\n",
    "# labels_dict"
   ]
  },
  {
   "cell_type": "code",
   "execution_count": null,
   "metadata": {},
   "outputs": [],
   "source": [
    "import yaml \n",
    "config_path = \"configs/fashion_people.yml\"\n",
    "with open(config_path, 'r') as f:\n",
    "    data = yaml.load(file, Loader=yaml.FullLoader)\n",
    "    \n",
    "labels_dict = data.get('names')\n",
    "detection_labels = [v for v in labels_dict.values()]"
   ]
  },
  {
   "cell_type": "code",
   "execution_count": null,
   "metadata": {},
   "outputs": [],
   "source": [
    "ds_id = \"jordandavis/fashion\"\n",
    "ds = load_dataset(ds_id, streaming=False, split=\"train\", trust_remote_code=True)\n",
    "ds = ds.filter(lambda example: int(example[\"width\"]) <= 1024)"
   ]
  },
  {
   "cell_type": "code",
   "execution_count": null,
   "metadata": {},
   "outputs": [],
   "source": [
    "def get_attributes(result):\n",
    "    label = result.get('label')\n",
    "    mask = result.get('mask')\n",
    "    label_id = result.get('label_id')\n",
    "    coco_polygons = get_coco_style_polygons(mask)\n",
    "    image_width, image_height = mask.image.size\n",
    "    yolo_polygons = convert_coco_to_yolo_polygons(coco_polygons, image_width, image_height)"
   ]
  },
  {
   "cell_type": "code",
   "execution_count": null,
   "metadata": {},
   "outputs": [],
   "source": [
    "image = row.get('image')\n",
    "results = get_results(image, detection_labels, iou_threshold=0.9)\n",
    "\n"
   ]
  },
  {
   "cell_type": "code",
   "execution_count": null,
   "metadata": {},
   "outputs": [],
   "source": [
    "row = next(iterable)\n",
    "image = row.get(\"image\")\n",
    "image.resize((256, 256))"
   ]
  },
  {
   "cell_type": "code",
   "execution_count": null,
   "metadata": {},
   "outputs": [],
   "source": [
    "image = resize_preserve_aspect_ratio(image, 1024)\n",
    "results = get_results(image, detection_labels, iou_threshold=0.9)"
   ]
  },
  {
   "cell_type": "code",
   "execution_count": null,
   "metadata": {},
   "outputs": [],
   "source": [
    "r = SAMResults(image.convert(\"RGB\"), labels_dict, **results)\n",
    "\n",
    "r.display_results()"
   ]
  },
  {
   "cell_type": "code",
   "execution_count": null,
   "metadata": {},
   "outputs": [],
   "source": [
    "max_num = 100\n",
    "\n",
    "for dir in tqdm([train_dir, val_dir]):\n",
    "    processed = 0  # Initialize a counter for successful processes\n",
    "    while processed < max_num:  # Continue looping until 4 successful processes\n",
    "        try:\n",
    "            row = next(iterable)\n",
    "            image = row.get(\"image\")\n",
    "            image = resize_preserve_aspect_ratio(image, 1024)\n",
    "            results = get_results(image, detection_labels, iou_threshold=0.9)\n",
    "\n",
    "            r = SAMResults(image.convert(\"RGB\"), labels_dict, **results)\n",
    "\n",
    "            image_name = row.get(\"image_id\")\n",
    "            lines = get_lines(r)\n",
    "            write_image_and_text_file(image_name, lines, dir)\n",
    "\n",
    "            processed += 1  # Increment only if the block was successful\n",
    "        except Exception as e:\n",
    "            print(e)  # Log the exception and continue with the next iteration\n",
    "            continue"
   ]
  },
  {
   "cell_type": "code",
   "execution_count": null,
   "metadata": {},
   "outputs": [],
   "source": [
    "dir = \"/home/jordan/jd_segment_anything/datasets/person_seg\"\n",
    "train_dir = os.path.join(dir, 'images', 'train')\n",
    "train_labels = os.path.join(dir, 'labels', 'train')\n",
    "\n",
    "val_dir = os.path.join(dir, 'images', 'val')\n",
    "val_labels = os.path.join(dir, 'labels', 'val')\n",
    "\n",
    "os.makedirs(train_dir, exist_ok=True)\n",
    "os.makedirs(val_dir, exist_ok=True)\n",
    "os.makedirs(train_labels, exist_ok=True)\n",
    "os.makedirs(val_labels, exist_ok=True)"
   ]
  },
  {
   "cell_type": "code",
   "execution_count": null,
   "metadata": {},
   "outputs": [],
   "source": [
    "get_coco_style_polygons"
   ]
  },
  {
   "cell_type": "code",
   "execution_count": null,
   "metadata": {},
   "outputs": [],
   "source": [
    "def get_lines(r):\n",
    "    lines = []\n",
    "\n",
    "    for result in r.formatted_results:\n",
    "        label = result.get('label')\n",
    "        mask = result.get('mask')\n",
    "        label_id = result.get('label_id')\n",
    "\n",
    "        coco_polygons = get_coco_style_polygons(mask)\n",
    "\n",
    "        image_width, image_height = mask.image.size\n",
    "\n",
    "        yolo_polygons = convert_coco_to_yolo_polygons(coco_polygons, image_width, image_height)\n",
    "\n",
    "        polygons = convert_mask_to_yolo_polygons(mask, image_width, image_height)\n",
    "\n",
    "        polygon_string = \" \".join([str(p) for p in polygons])\n",
    "        yolo_line = f\"{label_id} {polygon_string}\"\n",
    "        lines.append(yolo_line)\n",
    "    return lines"
   ]
  },
  {
   "cell_type": "code",
   "execution_count": null,
   "metadata": {},
   "outputs": [],
   "source": [
    "def write_image_and_text_file(image_name, lines, output_dir):\n",
    "    image_path = os.path.join(output_dir, image_name)\n",
    "\n",
    "    image_uuid = image_name.split('.')[0]\n",
    "    text_name = f\"{image_uuid}.txt\"\n",
    "\n",
    "    text_output_dir = output_dir.replace('images', 'labels')\n",
    "    text_path = os.path.join(text_output_dir, text_name)\n",
    "\n",
    "    image.convert('RGB').save(image_path)\n",
    "\n",
    "    text_file = \"\\n\".join(lines)\n",
    "    with open(text_path, \"w\") as f:\n",
    "        f.write(text_file)"
   ]
  }
 ],
 "metadata": {
  "kernelspec": {
   "display_name": "sam_venv",
   "language": "python",
   "name": "sam_venv"
  },
  "language_info": {
   "codemirror_mode": {
    "name": "ipython",
    "version": 3
   },
   "file_extension": ".py",
   "mimetype": "text/x-python",
   "name": "python",
   "nbconvert_exporter": "python",
   "pygments_lexer": "ipython3",
   "version": "3.10.12"
  },
  "orig_nbformat": 4
 },
 "nbformat": 4,
 "nbformat_minor": 2
}
