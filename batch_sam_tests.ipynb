{
 "cells": [
  {
   "cell_type": "markdown",
   "metadata": {},
   "source": [
    "### Init"
   ]
  },
  {
   "cell_type": "code",
   "execution_count": null,
   "metadata": {},
   "outputs": [],
   "source": [
    "import os\n",
    "\n",
    "import torch\n",
    "import yaml\n",
    "from PIL import Image\n",
    "\n",
    "from grounded_sam import (run_grounded_sam_batch, transform_image_dino,\n",
    "                          transform_image_sam)\n",
    "from utils import resize_preserve_aspect_ratio"
   ]
  },
  {
   "cell_type": "code",
   "execution_count": null,
   "metadata": {},
   "outputs": [],
   "source": [
    "def load_yaml(path):\n",
    "    with open(path, \"r\") as file:\n",
    "        data = yaml.load(file, Loader=yaml.FullLoader)\n",
    "    return data\n",
    "\n",
    "\n",
    "config_path = \"configs/fashion_people.yml\"\n",
    "data = load_yaml(config_path)\n",
    "\n",
    "\n",
    "def get_labels_dict(config_path):\n",
    "    data = load_yaml(config_path)\n",
    "    labels_dict = data.get(\"names\")\n",
    "    labels_dict = {v: k for k, v in labels_dict.items()}\n",
    "    return labels_dict\n",
    "\n",
    "\n",
    "device = \"cuda\"\n",
    "config_path = \"configs/fashion_people.yml\"\n",
    "data = load_yaml(config_path)\n",
    "labels_dict = get_labels_dict(config_path)"
   ]
  },
  {
   "cell_type": "markdown",
   "metadata": {},
   "source": [
    "### TEST"
   ]
  },
  {
   "cell_type": "code",
   "execution_count": 1,
   "metadata": {},
   "outputs": [
    {
     "data": {
      "application/vnd.jupyter.widget-view+json": {
       "model_id": "022a3e4654834ca99ea9e537bdcd0de2",
       "version_major": 2,
       "version_minor": 0
      },
      "text/plain": [
       "Downloading readme:   0%|          | 0.00/834 [00:00<?, ?B/s]"
      ]
     },
     "metadata": {},
     "output_type": "display_data"
    },
    {
     "data": {
      "application/vnd.jupyter.widget-view+json": {
       "model_id": "b212e401498c447591f767a5f3dd5151",
       "version_major": 2,
       "version_minor": 0
      },
      "text/plain": [
       "Resolving data files:   0%|          | 0/20 [00:00<?, ?it/s]"
      ]
     },
     "metadata": {},
     "output_type": "display_data"
    },
    {
     "data": {
      "application/vnd.jupyter.widget-view+json": {
       "model_id": "3a49aa5f2fe548e5ad91ffcd410e3f45",
       "version_major": 2,
       "version_minor": 0
      },
      "text/plain": [
       "Resolving data files:   0%|          | 0/20 [00:00<?, ?it/s]"
      ]
     },
     "metadata": {},
     "output_type": "display_data"
    }
   ],
   "source": [
    "from datasets import load_dataset\n",
    "import os \n",
    "\n",
    "repo_id = \"jordandavis/fashion_people_detections\"\n",
    "workers = os.cpu_count()\n",
    "\n",
    "# Load Dataset\n",
    "ds = load_dataset(repo_id, split='train', streaming=True, trust_remote_code=True, cache_dir='hf_cache')"
   ]
  },
  {
   "cell_type": "code",
   "execution_count": null,
   "metadata": {},
   "outputs": [],
   "source": [
    "from scripts.sam_results import SAMResults\n",
    "from utils import (pad_to_fixed_size, resize_preserve_aspect_ratio, unload_box,\n",
    "                   unload_mask)\n",
    "\n",
    "\n",
    "def load_image(image_path):\n",
    "    image_pil = Image.open(image_path).convert(\"RGB\")\n",
    "    image_pil = resize_preserve_aspect_ratio(image_pil, 1024)\n",
    "    image_pil = pad_to_fixed_size(image_pil, (1024, 1024))\n",
    "    return image_pil\n",
    "\n",
    "\n",
    "# image_dir = \"datasets/person_seg/images/train\"\n",
    "# image_paths = [os.path.join(image_dir, file) for file in os.listdir(image_dir)]\n",
    "# image_paths = [\"test_image_1.jpg\", \"test_image_2.jpg\"]\n",
    "\n",
    "# images = [load_image(image_path) for image_path in image_paths[:4]]\n",
    "dino_images = torch.stack([transform_image_dino(image) for image in images])\n",
    "sam_images = torch.stack([transform_image_sam(image) for image in images])\n",
    "\n",
    "dino_images = dino_images.to(device)\n",
    "sam_images = sam_images.to(device)"
   ]
  },
  {
   "cell_type": "code",
   "execution_count": null,
   "metadata": {},
   "outputs": [],
   "source": [
    "labels_dict = get_labels_dict(config_path)\n",
    "labels = [k for k in labels_dict.keys()]\n",
    "text_prompt = \" . \".join(labels)"
   ]
  },
  {
   "cell_type": "code",
   "execution_count": null,
   "metadata": {},
   "outputs": [],
   "source": [
    "unformatted_results = run_grounded_sam_batch(dino_images, sam_images, text_prompt)"
   ]
  },
  {
   "cell_type": "code",
   "execution_count": null,
   "metadata": {},
   "outputs": [],
   "source": [
    "r = SAMResults(images[1], labels_dict, **unformatted_results[1])\n",
    "r.display_results()"
   ]
  },
  {
   "cell_type": "code",
   "execution_count": null,
   "metadata": {},
   "outputs": [],
   "source": [
    "from utils import get_coco_style_polygons"
   ]
  },
  {
   "cell_type": "code",
   "execution_count": null,
   "metadata": {},
   "outputs": [],
   "source": [
    "def get_masks_md(results):\n",
    "    results_list = []\n",
    "    for result in results.formatted_results:\n",
    "        mask = result.get(\"mask\")\n",
    "        coco_polygons = get_coco_style_polygons(mask)\n",
    "\n",
    "        # format the polygons\n",
    "        result.update({\"polygons\": coco_polygons})\n",
    "        result.pop(\"mask\")\n",
    "        results_list.append(result)\n",
    "    return results_list"
   ]
  },
  {
   "cell_type": "code",
   "execution_count": null,
   "metadata": {},
   "outputs": [],
   "source": [
    "unformatted_results[0]"
   ]
  },
  {
   "cell_type": "code",
   "execution_count": null,
   "metadata": {},
   "outputs": [],
   "source": [
    "masks_md = []\n",
    "image_ids = [0,1]\n",
    "for image_id, image, raw_result in zip(image_ids, images, unformatted_results):\n",
    "    if raw_result.get('masks') is None or ('person' not in raw_result.get(\"phrases\")):\n",
    "        # mask_md_row = dict(zip(str(image_id), [None]))\n",
    "        mask_md = None\n",
    "    else:\n",
    "        result = SAMResults(image, labels_dict, **raw_result)\n",
    "        mask_md = get_masks_md(result)\n",
    "\n",
    "    # mask_metadata.update(mask_md_row)\n",
    "    masks_md.append(mask_md)"
   ]
  },
  {
   "cell_type": "code",
   "execution_count": null,
   "metadata": {},
   "outputs": [],
   "source": [
    "from utils import convert_coco_polygons_to_mask, overlay_mask"
   ]
  },
  {
   "cell_type": "code",
   "execution_count": null,
   "metadata": {},
   "outputs": [],
   "source": [
    "type(polygons[0])"
   ]
  },
  {
   "cell_type": "code",
   "execution_count": null,
   "metadata": {},
   "outputs": [],
   "source": [
    "polygons = masks_md[1][0]['polygons']\n",
    "label = masks_md[1][0]['label']\n",
    "image = images[1]\n",
    "print(label)\n",
    "mask = convert_coco_polygons_to_mask(polygons, 1024, 1024)"
   ]
  },
  {
   "cell_type": "code",
   "execution_count": null,
   "metadata": {},
   "outputs": [],
   "source": [
    "mask.shape"
   ]
  },
  {
   "cell_type": "code",
   "execution_count": null,
   "metadata": {},
   "outputs": [],
   "source": [
    "mask_image = Image.fromarray(mask)\n",
    "overlay_mask(image, mask_image)"
   ]
  },
  {
   "cell_type": "code",
   "execution_count": null,
   "metadata": {},
   "outputs": [],
   "source": [
    "row = 102\n",
    "mask_row = 2\n",
    "ds_polygons = ds[row]['mask_metadata'][mask_row]['polygons']\n",
    "ds_label = ds[row]['mask_metadata'][mask_row]['label']\n",
    "image = ds[row]['image']\n",
    "print(ds_label)\n",
    "mask = convert_coco_polygons_to_mask(ds_polygons, 1024, 1024)\n",
    "mask_image = Image.fromarray(mask)\n",
    "overlay_mask(image, mask_image)"
   ]
  },
  {
   "cell_type": "code",
   "execution_count": null,
   "metadata": {},
   "outputs": [],
   "source": [
    "masks_md[1][0].keys()"
   ]
  },
  {
   "cell_type": "code",
   "execution_count": null,
   "metadata": {},
   "outputs": [],
   "source": [
    "ds[1]['mask_metadata'][0].keys()"
   ]
  },
  {
   "cell_type": "code",
   "execution_count": null,
   "metadata": {},
   "outputs": [],
   "source": [
    "len(ds_polygons[2])"
   ]
  },
  {
   "cell_type": "code",
   "execution_count": null,
   "metadata": {},
   "outputs": [],
   "source": [
    "labels = [row['label'] for row in ds[1]['mask_metadata']]\n",
    "labels"
   ]
  },
  {
   "cell_type": "code",
   "execution_count": null,
   "metadata": {},
   "outputs": [],
   "source": [
    "[r['label'] for r in masks_md[1]]"
   ]
  },
  {
   "cell_type": "code",
   "execution_count": null,
   "metadata": {},
   "outputs": [],
   "source": [
    "images[1]"
   ]
  }
 ],
 "metadata": {
  "kernelspec": {
   "display_name": "venv",
   "language": "python",
   "name": "python3"
  },
  "language_info": {
   "codemirror_mode": {
    "name": "ipython",
    "version": 3
   },
   "file_extension": ".py",
   "mimetype": "text/x-python",
   "name": "python",
   "nbconvert_exporter": "python",
   "pygments_lexer": "ipython3",
   "version": "3.10.12"
  },
  "orig_nbformat": 4
 },
 "nbformat": 4,
 "nbformat_minor": 2
}
