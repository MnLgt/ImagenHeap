{
 "cells": [
  {
   "cell_type": "code",
   "execution_count": 1,
   "metadata": {},
   "outputs": [
    {
     "name": "stderr",
     "output_type": "stream",
     "text": [
      "/Users/jordandavis/GitHub/SEGMENT/GroundingDINO/groundingdino/models/GroundingDINO/ms_deform_attn.py:31: UserWarning: Failed to load custom C++ ops. Running on CPU mode Only!\n",
      "  warnings.warn(\"Failed to load custom C++ ops. Running on CPU mode Only!\")\n"
     ]
    }
   ],
   "source": [
    "import os\n",
    "from datasets import load_dataset\n",
    "from segment.create_dataset import CreateSegmentationDataset\n",
    "from segment.utils import load_resize_image\n",
    "import random\n",
    "from datasets import Dataset\n",
    "from huggingface_hub import create_repo"
   ]
  },
  {
   "cell_type": "code",
   "execution_count": null,
   "metadata": {},
   "outputs": [],
   "source": [
    "# import yaml\n",
    "# # loading yaml config file\n",
    "# @lru_cache(maxsize=None)\n",
    "# def load_yaml(path):\n",
    "#     with open(path, \"r\") as file:\n",
    "#         data = yaml.load(file, Loader=yaml.FullLoader)\n",
    "#     return data\n",
    "\n",
    "# # Get the labels dictionary from the config file\n",
    "# @lru_cache(maxsize=None)\n",
    "# def get_labels_dict(config_path):\n",
    "#     data = load_yaml(config_path)\n",
    "#     labels_dict = data.get(\"names\")\n",
    "#     labels_dict = {v: k for k, v in labels_dict.items()}\n",
    "#     return labels_dict\n",
    "\n",
    "# class SegmentTrain:\n",
    "#     def __init__(self):\n",
    "#         pass\n",
    "\n",
    "#     def create_yolo_config(self, save_path: str):\n",
    "#         \"\"\"Create and save the YOLO config YAML file.\"\"\"\n",
    "#         config = {\"names\": {i: label for label, i in self.labels_dict.items()}}\n",
    "#         with open(save_path, \"w\") as file:\n",
    "#             yaml.dump(config, file)\n",
    "    # def _get_labels_dict(self) -> Dict[str, int]:\n",
    "    #     \"\"\"Get labels dictionary from the text prompt.\"\"\"\n",
    "    #     labels = self.text_prompt.split(\".\")\n",
    "    #     return {label: i for i, label in enumerate(labels)}\n"
   ]
  },
  {
   "cell_type": "code",
   "execution_count": null,
   "metadata": {},
   "outputs": [],
   "source": [
    "from segment.filters import Filter, score_filter, remove_empty_items\n",
    "from segment.visualizer import visualizer\n",
    "from typing import Union, List\n",
    "\n",
    "    \n",
    "class Segment(CreateSegmentationDataset):\n",
    "    def __init__(self, ds: Dataset, text_prompt: Union[List, str], image_col='image', md_col='metadata', **kwargs):\n",
    "        super().__init__(ds, text_prompt, **kwargs)\n",
    "        self.ds = ds\n",
    "        self.text_prompt = text_prompt\n",
    "        self.image_col = image_col\n",
    "        self.md_col = md_col\n",
    "\n",
    "    def display(self, row_num=None):\n",
    "        if row_num is None:\n",
    "            row_num = random.randint(0, len(self.ds) - 1)\n",
    "\n",
    "        row = self.ds[row_num]\n",
    "        image = row[self.image_col]\n",
    "        metadata = row[self.md_col]\n",
    "\n",
    "        if not bool(metadata):\n",
    "            raise ValueError(\"No metadata found for this image\")\n",
    "\n",
    "        visualizer(image, metadata)\n",
    "\n",
    "    def filter_scores(self, score_cutoff: float):\n",
    "        \"\"\"\n",
    "        Filter the processed dataset based on segmentation scores.\n",
    "\n",
    "        Args:\n",
    "            score_cutoff (float): The minimum score to keep a segmentation result.\n",
    "\n",
    "        Raises:\n",
    "            AssertionError: If there is no processed dataset to filter.\n",
    "        \"\"\"\n",
    "        assert self.ds is not None, \"There is no processed dataset to filter\"\n",
    "\n",
    "        self.ds = Filter.filter_list_in_column(\n",
    "            self.ds,\n",
    "            self.md_col,\n",
    "            lambda x: score_filter(x, score_cutoff)\n",
    "        )\n",
    "\n",
    "\n",
    "    def remove_empty_rows(self):\n",
    "        \"\"\"\n",
    "        Remove rows with empty metadata.\n",
    "        \"\"\"\n",
    "        \n",
    "        self.ds = Filter.filter_rows_of_dataset(\n",
    "            self.ds,\n",
    "            lambda x: remove_empty_items(x, self.md_col)\n",
    "        )\n",
    "\n",
    "    def push_to_hub(self, repo_id, token, commit_message=\"md\", private=True):\n",
    "        create_repo(\n",
    "            repo_id=repo_id,\n",
    "            repo_type=\"dataset\",\n",
    "            exist_ok=True,\n",
    "            private=private,\n",
    "            token=token,\n",
    "        )\n",
    "\n",
    "        self.ds.push_to_hub(\n",
    "            repo_id, commit_message=commit_message, token=token\n",
    "        )\n",
    "\n",
    "        print(f\"Pushed Dataset to Hub: {repo_id}\")"
   ]
  },
  {
   "cell_type": "code",
   "execution_count": 2,
   "metadata": {},
   "outputs": [
    {
     "data": {
      "application/vnd.jupyter.widget-view+json": {
       "model_id": "d75b3dec9d274754aede6131d0db9c94",
       "version_major": 2,
       "version_minor": 0
      },
      "text/plain": [
       "Resolving data files:   0%|          | 0/27 [00:00<?, ?it/s]"
      ]
     },
     "metadata": {},
     "output_type": "display_data"
    }
   ],
   "source": [
    "image_dir = \"datasets/fashion_people_detection/images/val\"\n",
    "\n",
    "ds = load_dataset(\"imagefolder\", data_dir=image_dir, split=\"train\")\n",
    "text_prompt = [\"face\", \"glasses\", \"clothes\"]\n",
    "ds = ds.shuffle().take(2)"
   ]
  },
  {
   "cell_type": "code",
   "execution_count": null,
   "metadata": {},
   "outputs": [],
   "source": [
    "\n",
    "seg = Segment(ds, text_prompt, sub_batch_size=1)"
   ]
  },
  {
   "cell_type": "code",
   "execution_count": null,
   "metadata": {},
   "outputs": [],
   "source": [
    "seg.process()"
   ]
  },
  {
   "cell_type": "code",
   "execution_count": null,
   "metadata": {},
   "outputs": [],
   "source": [
    "seg.display()"
   ]
  },
  {
   "cell_type": "code",
   "execution_count": null,
   "metadata": {},
   "outputs": [],
   "source": []
  }
 ],
 "metadata": {
  "kernelspec": {
   "display_name": "groundingdino",
   "language": "python",
   "name": "python3"
  },
  "language_info": {
   "codemirror_mode": {
    "name": "ipython",
    "version": 3
   },
   "file_extension": ".py",
   "mimetype": "text/x-python",
   "name": "python",
   "nbconvert_exporter": "python",
   "pygments_lexer": "ipython3",
   "version": "3.10.13"
  },
  "orig_nbformat": 4
 },
 "nbformat": 4,
 "nbformat_minor": 2
}
