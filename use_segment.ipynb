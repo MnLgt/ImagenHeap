{
 "cells": [
  {
   "cell_type": "code",
   "execution_count": 5,
   "metadata": {},
   "outputs": [],
   "source": [
    "from typing import List\n",
    "from datasets import load_dataset\n",
    "import os \n",
    "from torch.utils.data import DataLoader\n",
    "from segment.dino_script import DinoDetector"
   ]
  },
  {
   "cell_type": "code",
   "execution_count": 6,
   "metadata": {},
   "outputs": [],
   "source": [
    "class Segment:\n",
    "\n",
    "    def __init__(\n",
    "        self,\n",
    "        dataset_id: str,\n",
    "        text_prompt: List,\n",
    "        split: str = \"train\",\n",
    "        cache_dir: str = None,\n",
    "        num_workers: int = -1,\n",
    "        streaming=False,\n",
    "    ):\n",
    "        self.dataset_id = dataset_id\n",
    "        self.text_prompt = text_prompt\n",
    "        self.split = split\n",
    "        self.cache_dir = cache_dir\n",
    "        self.num_workers = os.cpu_count() if num_workers == -1 else num_workers\n",
    "        self.streaming = streaming\n",
    "        self.ds = self.get_dataset()\n",
    "\n",
    "    def get_dataset(self):\n",
    "        ds=load_dataset(\n",
    "            self.dataset_id,\n",
    "            split=self.split,\n",
    "            trust_remote_code=True,\n",
    "            cache_dir=self.cache_dir,\n",
    "            streaming=self.streaming,\n",
    "            num_proc=self.num_workers if self.streaming == False else None)\n",
    "        return ds"
   ]
  },
  {
   "cell_type": "code",
   "execution_count": 7,
   "metadata": {},
   "outputs": [],
   "source": [
    "dataset_id = \"huggan/flowers-102-categories\"\n",
    "text_prompt = [\"flower\", \"grass\"]"
   ]
  },
  {
   "cell_type": "code",
   "execution_count": 8,
   "metadata": {},
   "outputs": [],
   "source": [
    "seg = Segment(dataset_id, text_prompt, split=\"train[:100]\")"
   ]
  },
  {
   "cell_type": "code",
   "execution_count": 49,
   "metadata": {},
   "outputs": [],
   "source": [
    "from abc import ABC, abstractmethod\n",
    "from typing import Dict, Any, List, TypeVar, Union\n",
    "from PIL import Image, ImageOps\n",
    "import os\n",
    "from typing import Callable, Union\n",
    "import requests\n",
    "from dataclasses import dataclass\n",
    "\n",
    "ImageInput = TypeVar(\"ImageInput\", str, List[str], Image.Image, List[Image.Image])\n",
    "\n",
    "def load_image(\n",
    "    image: Union[str, Image.Image],\n",
    "    convert_method: Callable[[Image.Image], Image.Image] = None,\n",
    ") -> Image.Image:\n",
    "    \"\"\"\n",
    "    Loads `image` to a PIL Image.\n",
    "\n",
    "    Args:\n",
    "        image (`str` or `Image.Image`):\n",
    "            The image to convert to the PIL Image format.\n",
    "        convert_method (Callable[[Image.Image], Image.Image], optional):\n",
    "            A conversion method to apply to the image after loading it.\n",
    "            When set to `None` the image will be converted \"RGB\".\n",
    "\n",
    "    Returns:\n",
    "        `Image.Image`:\n",
    "            A PIL Image.\n",
    "    \"\"\"\n",
    "    if isinstance(image, str):\n",
    "        if image.startswith(\"http://\") or image.startswith(\"https://\"):\n",
    "            image = Image.open(requests.get(image, stream=True).raw)\n",
    "        elif os.path.isfile(image):\n",
    "            image = Image.open(image)\n",
    "        else:\n",
    "            raise ValueError(\n",
    "                f\"Incorrect path or URL. URLs must start with `http://` or `https://`, and {image} is not a valid path.\"\n",
    "            )\n",
    "    elif isinstance(image, Image.Image):\n",
    "        image = image\n",
    "    else:\n",
    "        raise ValueError(\n",
    "            \"Incorrect format used for the image. Should be a URL linking to an image, a local path, or a PIL image.\"\n",
    "        )\n",
    "\n",
    "    image = ImageOps.exif_transpose(image)\n",
    "\n",
    "    if convert_method is not None:\n",
    "        image = convert_method(image)\n",
    "    else:\n",
    "        image = image.convert(\"RGB\")\n",
    "\n",
    "    return image\n",
    "\n",
    "\n",
    "class Component(ABC):\n",
    "    @abstractmethod\n",
    "    def process(self, data: Any = None) -> Any:\n",
    "        \"\"\"\n",
    "        Processes the input data and returns the output data.\n",
    "        \n",
    "        Args:\n",
    "            data: Input data.\n",
    "        \n",
    "        Returns:\n",
    "            Processed data.\n",
    "        \"\"\"\n",
    "        pass\n",
    "\n",
    "@dataclass\n",
    "class ImageLoader(Component):\n",
    "    image: ImageInput\n",
    "\n",
    "    def process(self, image: ImageInput = None) -> List[Image.Image]:\n",
    "        \"\"\"\n",
    "        Processes the input image(s) and returns a list of PIL Image objects.\n",
    "        \n",
    "        Args:\n",
    "            image: Input image(s). If None, uses the image attribute.\n",
    "        \n",
    "        Returns:\n",
    "            A list of PIL Image objects.\n",
    "        \n",
    "        Raises:\n",
    "            ValueError: If the input image is not a supported type.\n",
    "        \"\"\"\n",
    "        image_input = image if image is not None else self.image\n",
    "\n",
    "        if isinstance(image_input, str):\n",
    "            return [load_image(image_input)]\n",
    "        elif isinstance(image_input, List):\n",
    "            return [load_image(img) if isinstance(img, str) else img for img in image_input]\n",
    "        elif isinstance(image_input, Image.Image):\n",
    "            return [image_input]\n",
    "        else:\n",
    "            raise ValueError(\n",
    "                \"Image must be a string, list of strings, PIL Image, or list of PIL Images.\"\n",
    "            )"
   ]
  },
  {
   "cell_type": "code",
   "execution_count": 50,
   "metadata": {},
   "outputs": [],
   "source": [
    "image1 = seg.ds[0][\"image\"]\n",
    "image2 = seg.ds[1][\"image\"]\n",
    "images = [image1, image2]\n",
    "\n",
    "\n",
    "l = ImageLoader(images).process()"
   ]
  },
  {
   "cell_type": "code",
   "execution_count": 51,
   "metadata": {},
   "outputs": [
    {
     "data": {
      "text/plain": [
       "[<PIL.JpegImagePlugin.JpegImageFile image mode=RGB size=752x500>,\n",
       " <PIL.JpegImagePlugin.JpegImageFile image mode=RGB size=774x500>]"
      ]
     },
     "execution_count": 51,
     "metadata": {},
     "output_type": "execute_result"
    }
   ],
   "source": [
    "l"
   ]
  },
  {
   "cell_type": "code",
   "execution_count": null,
   "metadata": {},
   "outputs": [],
   "source": []
  }
 ],
 "metadata": {
  "kernelspec": {
   "display_name": "groundingdino",
   "language": "python",
   "name": "python3"
  },
  "language_info": {
   "codemirror_mode": {
    "name": "ipython",
    "version": 3
   },
   "file_extension": ".py",
   "mimetype": "text/x-python",
   "name": "python",
   "nbconvert_exporter": "python",
   "pygments_lexer": "ipython3",
   "version": "3.10.13"
  },
  "orig_nbformat": 4
 },
 "nbformat": 4,
 "nbformat_minor": 2
}
