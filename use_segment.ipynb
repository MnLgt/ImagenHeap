{
 "cells": [
  {
   "cell_type": "code",
   "execution_count": null,
   "metadata": {},
   "outputs": [],
   "source": [
    "from typing import List, Union\n",
    "from datasets import load_dataset\n",
    "import os \n",
    "from torch.utils.data import DataLoader\n",
    "from segment.dino_script import DinoDetector\n",
    "from segment.components.inputs import ImageLoader, ImageInput\n",
    "from segment.create_dataset import CreateSegmentationDataset\n",
    "from pathlib import Path"
   ]
  },
  {
   "cell_type": "code",
   "execution_count": null,
   "metadata": {},
   "outputs": [],
   "source": [
    "dataset_id = \"huggan/flowers-102-categories\"\n",
    "text_prompt = [\"flower\", \"grass\"]"
   ]
  },
  {
   "cell_type": "code",
   "execution_count": null,
   "metadata": {},
   "outputs": [],
   "source": [
    "# image1 = ds[0][\"image\"]\n",
    "# image2 = ds[1][\"image\"]\n",
    "# images = [image1, image2]\n"
   ]
  },
  {
   "cell_type": "code",
   "execution_count": null,
   "metadata": {},
   "outputs": [],
   "source": [
    "image_dir = (\n",
    "    \"/Users/jordandavis/GitHub/SEGMENT/datasets/fashion_people_detection/images/val\"\n",
    ")\n",
    "# get the first ten image paths\n",
    "ds = load_dataset(\"imagefolder\", data_dir=image_dir, split=\"train\")\n",
    "text_prompt = [\"upper body\", \"lower body\"]"
   ]
  },
  {
   "cell_type": "code",
   "execution_count": null,
   "metadata": {},
   "outputs": [],
   "source": [
    "\n",
    "p = CreateSegmentationDataset(ds, text_prompt,bs=64, sub_bs=4)"
   ]
  },
  {
   "cell_type": "code",
   "execution_count": 6,
   "metadata": {},
   "outputs": [],
   "source": [
    "p.process()"
   ]
  },
  {
   "cell_type": "code",
   "execution_count": null,
   "metadata": {},
   "outputs": [],
   "source": []
  }
 ],
 "metadata": {
  "kernelspec": {
   "display_name": "groundingdino",
   "language": "python",
   "name": "python3"
  },
  "language_info": {
   "codemirror_mode": {
    "name": "ipython",
    "version": 3
   },
   "file_extension": ".py",
   "mimetype": "text/x-python",
   "name": "python",
   "nbconvert_exporter": "python",
   "pygments_lexer": "ipython3",
   "version": "3.10.13"
  },
  "orig_nbformat": 4
 },
 "nbformat": 4,
 "nbformat_minor": 2
}
