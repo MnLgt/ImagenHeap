{
 "cells": [
  {
   "cell_type": "code",
   "execution_count": null,
   "metadata": {},
   "outputs": [],
   "source": [
    "import os\n",
    "from PIL import ImageOps, ImageColor, Image, ImageDraw\n",
    "from tqdm import tqdm\n",
    "from concurrent.futures import ProcessPoolExecutor, as_completed\n",
    "from utils import convert_coco_polygons_to_mask, overlay_mask\n",
    "\n",
    "from datasets import load_dataset\n",
    "from utils import resize_image_pil\n",
    "import io\n",
    "import numpy as np\n",
    "import yaml "
   ]
  },
  {
   "cell_type": "code",
   "execution_count": null,
   "metadata": {},
   "outputs": [],
   "source": [
    "repo_id = \"jordandavis/fashion_people_detections\"\n",
    "parent_dir = \"datasets/fashion_people_detection\"\n",
    "workers = os.cpu_count()\n",
    "\n",
    "# Load Dataset\n",
    "ds = load_dataset(\n",
    "    repo_id, split=\"train\", trust_remote_code=True, num_proc=workers, cache_dir='hf_cache'\n",
    ")"
   ]
  },
  {
   "cell_type": "code",
   "execution_count": null,
   "metadata": {},
   "outputs": [],
   "source": [
    "def resize_image_pil(image_pil, max_size=1024):\n",
    "    # Ensure image is in RGB\n",
    "    if image_pil.mode != \"RGB\":\n",
    "        image_pil = image_pil.convert(\"RGB\")\n",
    "\n",
    "    # Calculate new dimensions preserving aspect ratio\n",
    "    width, height = image_pil.size\n",
    "    scale = min(max_size / width, max_size / height)\n",
    "    new_width = int(width * scale)\n",
    "    new_height = int(height * scale)\n",
    "    image_pil = image_pil.resize((new_width, new_height), Image.LANCZOS)\n",
    "\n",
    "    # Calculate padding needed to reach 1024x1024\n",
    "    pad_width = (max_size - new_width) // 2\n",
    "    pad_height = (max_size - new_height) // 2\n",
    "\n",
    "    # Apply padding symmetrically\n",
    "    image_pil = ImageOps.expand(\n",
    "        image_pil,\n",
    "        border=(\n",
    "            pad_width,\n",
    "            pad_height,\n",
    "            max_size - new_width - pad_width,\n",
    "            max_size - new_height - pad_height,\n",
    "        ),\n",
    "        fill=(0, 0, 0),\n",
    "    )\n",
    "\n",
    "    return image_pil"
   ]
  },
  {
   "cell_type": "code",
   "execution_count": null,
   "metadata": {},
   "outputs": [],
   "source": [
    "\n",
    "# Load labels from YAML configuration file\n",
    "yaml_file = \"configs/fashion_people_detection.yml\"\n",
    "with open(yaml_file, 'r') as f:\n",
    "    config = yaml.safe_load(f)\n",
    "    class_labels = config['names']  # Adjust the key based on your YAML structure"
   ]
  },
  {
   "cell_type": "code",
   "execution_count": null,
   "metadata": {},
   "outputs": [],
   "source": [
    "labels = ['hair', 'face', 'neck', 'arm', 'hand', 'back', 'leg', 'foot', 'outfit', 'person', 'phone']\n",
    "colors = ['red', 'blue', 'green', 'yellow', 'purple', 'orange', 'pink', 'cyan', 'magenta', 'white', 'black']\n",
    "label_to_color = dict(zip(labels, colors))"
   ]
  },
  {
   "cell_type": "code",
   "execution_count": null,
   "metadata": {},
   "outputs": [],
   "source": [
    "row = 5"
   ]
  },
  {
   "cell_type": "code",
   "execution_count": null,
   "metadata": {},
   "outputs": [],
   "source": [
    "row += 1\n",
    "image = ds[row][\"image\"]\n",
    "image = resize_image_pil(image, 1024)\n",
    "mask_md = ds[row][\"mask_metadata\"]\n",
    "masks = []\n",
    "\n",
    "for md in mask_md:\n",
    "    polygons = md.get(\"polygons\")\n",
    "    label = md.get('label')\n",
    "    if label not in ('person'):\n",
    "        color = label_to_color.get(label)\n",
    "        height, width = image.size\n",
    "        mask = convert_coco_polygons_to_mask(polygons, height, width)\n",
    "        mask = Image.fromarray(mask)\n",
    "        masks.append((mask, color))\n",
    "\n",
    "result = Image.new('RGB', image.size)\n",
    "for mask, color in masks:\n",
    "    colored = Image.new('RGB', image.size, color)\n",
    "    result.paste(colored, mask=mask)\n",
    "\n",
    "result.resize((256,256))"
   ]
  }
 ],
 "metadata": {
  "kernelspec": {
   "display_name": "venv",
   "language": "python",
   "name": "python3"
  },
  "language_info": {
   "codemirror_mode": {
    "name": "ipython",
    "version": 3
   },
   "file_extension": ".py",
   "mimetype": "text/x-python",
   "name": "python",
   "nbconvert_exporter": "python",
   "pygments_lexer": "ipython3",
   "version": "3.10.12"
  },
  "orig_nbformat": 4
 },
 "nbformat": 4,
 "nbformat_minor": 2
}
