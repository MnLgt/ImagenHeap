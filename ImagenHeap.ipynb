{
 "cells": [
  {
   "cell_type": "code",
   "execution_count": null,
   "metadata": {},
   "outputs": [],
   "source": [
    "import os\n",
    "import random\n",
    "from typing import Any, Dict, List, Set, Union\n",
    "\n",
    "import warnings\n",
    "from PIL import Image\n",
    "from datasets import Dataset, load_dataset\n",
    "from huggingface_hub import create_repo\n",
    "from segment.components.base import Component\n",
    "from segment.components.detect.DetectDino import DetectDino\n",
    "from segment.components.segment.SegmentSam import SegmentSam\n",
    "from segment.utils import get_coco_style_polygons, unload_box, unload_mask\n",
    "from segment.visualizer import visualizer\n",
    "from segment.format_results import ResultFormatter\n",
    "from segment.components.data_manager import DataManager\n",
    "from segment.components.training_manager import TrainingManager\n",
    "from segment.components.component_manager import ComponentManager\n",
    "from segment.utilities.logger_config import get_logger\n",
    "from tqdm.auto import tqdm\n",
    "\n",
    "logger = get_logger()\n",
    "\n",
    "warnings.filterwarnings(\"ignore\", category=UserWarning)\n",
    "warnings.filterwarnings(\"ignore\", category=FutureWarning)"
   ]
  },
  {
   "cell_type": "code",
   "execution_count": null,
   "metadata": {},
   "outputs": [],
   "source": [
    "class DotDict(dict):\n",
    "    \"\"\"Dot notation access to dictionary attributes\"\"\"\n",
    "\n",
    "    __getattr__ = dict.get\n",
    "    __setattr__ = dict.__setitem__\n",
    "    __delattr__ = dict.__delitem__"
   ]
  },
  {
   "cell_type": "code",
   "execution_count": null,
   "metadata": {},
   "outputs": [],
   "source": [
    "class ImagenHeap:\n",
    "    def __init__(self):\n",
    "        self.data_manager = DataManager()\n",
    "        self.component_manager = ComponentManager()\n",
    "        self.training_manager = TrainingManager()\n",
    "        self.result_formatter = ResultFormatter()\n",
    "        self.batch_size = None\n",
    "        self.dataset = None\n",
    "        self.images = None\n",
    "        self.processed_results = None\n",
    "        self.formatted_results = None\n",
    "        self.component_configs = {}\n",
    "\n",
    "    def load_dataset(self, ds: Union[str, Dataset]) -> Dataset:\n",
    "        self.dataset = self.data_manager.load(ds)\n",
    "        self.images = self.dataset[\"image\"]\n",
    "        return self.dataset\n",
    "\n",
    "    def add_args(self, component_name: str):\n",
    "        \"\"\"Get configuration object for a specific component.\"\"\"\n",
    "        if component_name not in self.component_configs:\n",
    "            self.component_configs[component_name] = DotDict()\n",
    "        return self.component_configs[component_name]\n",
    "\n",
    "    def get_initial_data(self):\n",
    "        return {\n",
    "            \"images\": self.images,\n",
    "        }\n",
    "\n",
    "    def set_batch_size(self, batch_size: int = 8):\n",
    "        self.component_manager.set_batch_size(batch_size)\n",
    "\n",
    "    def format_results(self):\n",
    "        if self.processed_results is not None:\n",
    "            self.formatted_results = self.result_formatter.format_all_results(\n",
    "                self.processed_results\n",
    "            )\n",
    "\n",
    "    def process_dataset(self) -> Dict[str, Any]:\n",
    "        if self.component_manager.batch_size is None:\n",
    "            self.set_batch_size()\n",
    "\n",
    "        if self.dataset is None or self.images is None:\n",
    "            raise ValueError(\"Dataset not loaded. Please load a dataset first.\")\n",
    "\n",
    "        initial_data = self.get_initial_data()\n",
    "\n",
    "        self.processed_results = self.component_manager.process(\n",
    "            initial_data, self.component_configs\n",
    "        )\n",
    "        self.format_results()\n",
    "\n",
    "    def get_formatted_results(self) -> List[Dict[str, Any]]:\n",
    "        if self.formatted_results is None:\n",
    "            raise ValueError(\n",
    "                \"No formatted results available. Please process the dataset first.\"\n",
    "            )\n",
    "        return self.formatted_results\n",
    "\n",
    "    def visualize(self, index: int = None):\n",
    "        if index is None:\n",
    "            index = random.randint(0, len(self.images) - 1)\n",
    "\n",
    "        if self.images is None or self.formatted_results is None:\n",
    "            raise ValueError(\n",
    "                \"Images or results not available. Please load and process the dataset first.\"\n",
    "            )\n",
    "\n",
    "        image = self.images[index]\n",
    "        result = self.formatted_results[index]\n",
    "        visualizer(image, result)\n",
    "\n",
    "    def train_model(self, model_config: Dict[str, Any]):\n",
    "        if self.dataset is None:\n",
    "            raise ValueError(\"Dataset not loaded. Please load a dataset first.\")\n",
    "        self.training_manager.train_model(self.dataset, model_config)\n",
    "\n",
    "    def push_to_hub(\n",
    "        self, repo_id: str, token: str, commit_message: str = \"md\", private: bool = True\n",
    "    ):\n",
    "        if self.dataset is None:\n",
    "            raise ValueError(\"Dataset not loaded. Please load a dataset first.\")\n",
    "        self.data_manager.push_to_hub(repo_id, token, commit_message, private)\n",
    "\n",
    "    def set_pipeline(self, pipeline: List[str]):\n",
    "        self.component_manager.set_pipeline(pipeline)\n",
    "\n",
    "    def register_component(self, component: Component):\n",
    "        self.component_manager.register_component(component)"
   ]
  },
  {
   "cell_type": "code",
   "execution_count": null,
   "metadata": {},
   "outputs": [],
   "source": [
    "image_dir = \"datasets/fashion_people_detection/images/val\"\n",
    "\n",
    "ds = load_dataset(\"imagefolder\", data_dir=image_dir, split=\"train\")\n",
    "ds = ds.shuffle().take(8)"
   ]
  },
  {
   "cell_type": "code",
   "execution_count": null,
   "metadata": {},
   "outputs": [],
   "source": [
    "# Usage example\n",
    "ih = ImagenHeap()\n",
    "\n",
    "# Register components\n",
    "ih.register_component(DetectDino())\n",
    "ih.register_component(SegmentSam())\n",
    "\n",
    "# Set pipeline\n",
    "ih.set_pipeline([\"detect\",\"segment\"])"
   ]
  },
  {
   "cell_type": "code",
   "execution_count": null,
   "metadata": {},
   "outputs": [],
   "source": [
    "# Load dataset\n",
    "ih.load_dataset(ds)\n",
    "\n",
    "# Set component-specific configurations\n",
    "text_prompt = [\n",
    "    \"hair\",\n",
    "    \"face\",\n",
    "    \"neck\",\n",
    "    \"arm\",\n",
    "    \"hand\",\n",
    "    \"back\",\n",
    "    \"leg\",\n",
    "    \"foot\",\n",
    "    \"outfit\",\n",
    "    \"phone\",\n",
    "    \"hat\",\n",
    "    \"shoe\",\n",
    "]\n",
    "\n",
    "ih.add_args(\"detect\").text_prompt = text_prompt\n",
    "ih.add_args(\"segment\").return_tensors = True"
   ]
  },
  {
   "cell_type": "code",
   "execution_count": null,
   "metadata": {},
   "outputs": [],
   "source": [
    "ih.set_batch_size()"
   ]
  },
  {
   "cell_type": "code",
   "execution_count": null,
   "metadata": {},
   "outputs": [],
   "source": [
    "ih.component_manager.batch_size"
   ]
  },
  {
   "cell_type": "code",
   "execution_count": null,
   "metadata": {},
   "outputs": [],
   "source": [
    "# Process dataset and get formatted results\n",
    "ih.process_dataset()"
   ]
  },
  {
   "cell_type": "code",
   "execution_count": null,
   "metadata": {},
   "outputs": [],
   "source": [
    "ih.formatted_results"
   ]
  },
  {
   "cell_type": "code",
   "execution_count": null,
   "metadata": {},
   "outputs": [],
   "source": [
    "# Visualize a specific result\n",
    "ih.visualize()"
   ]
  },
  {
   "cell_type": "code",
   "execution_count": null,
   "metadata": {},
   "outputs": [],
   "source": []
  }
 ],
 "metadata": {
  "kernelspec": {
   "display_name": "groundingdino",
   "language": "python",
   "name": "python3"
  },
  "language_info": {
   "codemirror_mode": {
    "name": "ipython",
    "version": 3
   },
   "file_extension": ".py",
   "mimetype": "text/x-python",
   "name": "python",
   "nbconvert_exporter": "python",
   "pygments_lexer": "ipython3",
   "version": "3.10.13"
  },
  "orig_nbformat": 4
 },
 "nbformat": 4,
 "nbformat_minor": 2
}
