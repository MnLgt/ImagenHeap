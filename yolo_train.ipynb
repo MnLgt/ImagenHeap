{
 "cells": [
  {
   "cell_type": "code",
   "execution_count": null,
   "metadata": {},
   "outputs": [],
   "source": [
    "from ultralytics import YOLO\n",
    "from wandb.integration.ultralytics import add_wandb_callback\n",
    "import os  \n",
    "import wandb\n",
    "import warnings \n",
    "warnings.filterwarnings(action='ignore', category=UserWarning)\n",
    "\n",
    "# Load a model\n",
    "pretrained = \"/home/ubuntu/JD-HD/SEGMENT/human_parsing/train9/weights/best.pt\"\n",
    "model = YOLO(pretrained, task=\"segment\"\n",
    ")  # load a pretrained model (recommended for training)\n",
    "\n",
    "yaml_file = \"configs/fashion_people_detection.yml\"\n",
    "project_name = \"human_parsing\"\n",
    "\n",
    "# add_wandb_callback(model)\n",
    "\n",
    "bs = 72\n",
    "workers = os.cpu_count()\n",
    "# Train the model\n",
    "results = model.train(project=project_name, data=yaml_file, epochs=100, imgsz=1024, batch=bs, workers=workers)\n",
    "\n",
    "# Finish the W&B run\n",
    "# wandb.finish()"
   ]
  },
  {
   "cell_type": "code",
   "execution_count": null,
   "metadata": {},
   "outputs": [],
   "source": [
    "import random\n",
    "from PIL import Image\n",
    "import requests\n",
    "from PIL import Image\n",
    "\n",
    "from utils import *\n",
    "import yaml\n",
    "\n",
    "with open(yaml_file, 'r') as file:\n",
    "    data = yaml.load(file, Loader=yaml.FullLoader)\n",
    "\n",
    "labels_dict = data.get('names')"
   ]
  },
  {
   "cell_type": "code",
   "execution_count": null,
   "metadata": {},
   "outputs": [],
   "source": [
    "model_path = \"/home/ubuntu/JD-HD/SEGMENT/human_parsing/train10/weights/best.pt\"\n",
    "model = YOLO(model_path, task=\"segment\")"
   ]
  },
  {
   "cell_type": "code",
   "execution_count": null,
   "metadata": {},
   "outputs": [],
   "source": [
    "url = \"https://www.the-sun.com/wp-content/uploads/sites/6/2023/09/janice-dickinson-attends-36th-carousel-805923729.jpg\"\n",
    "image = Image.open(requests.get(url, stream=True).raw)\n",
    "image = resize_preserve_aspect_ratio(image, 1024)\n",
    "results = model(image)"
   ]
  },
  {
   "cell_type": "code",
   "execution_count": null,
   "metadata": {},
   "outputs": [],
   "source": [
    "result = results[0]\n",
    "labels = result.boxes.cls \n",
    "labels = [int(label.item()) for label in labels]\n",
    "labels = [labels_dict[label] for label in labels]\n",
    "masks = result.masks.data\n",
    "masks = [unload_mask(mask) for mask in masks]\n",
    "\n",
    "masks_dict = dict(zip(labels, masks))\n",
    "for k, v in masks_dict.items():\n",
    "    print(k)\n",
    "    overlay = overlay_mask(image, v)\n",
    "    display(overlay)"
   ]
  },
  {
   "cell_type": "code",
   "execution_count": null,
   "metadata": {},
   "outputs": [],
   "source": []
  }
 ],
 "metadata": {
  "kernelspec": {
   "display_name": "groundingdino",
   "language": "python",
   "name": "groundingdino"
  },
  "language_info": {
   "codemirror_mode": {
    "name": "ipython",
    "version": 3
   },
   "file_extension": ".py",
   "mimetype": "text/x-python",
   "name": "python",
   "nbconvert_exporter": "python",
   "pygments_lexer": "ipython3",
   "version": "3.10.12"
  },
  "orig_nbformat": 4
 },
 "nbformat": 4,
 "nbformat_minor": 2
}
