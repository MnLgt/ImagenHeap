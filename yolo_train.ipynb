{
 "cells": [
  {
   "cell_type": "code",
   "execution_count": null,
   "metadata": {},
   "outputs": [],
   "source": [
    "from ultralytics import YOLO\n",
    "from wandb.integration.ultralytics import add_wandb_callback\n",
    "import os  \n",
    "import wandb\n",
    "import yaml\n",
    "import warnings \n",
    "warnings.filterwarnings(action='ignore', category=UserWarning)"
   ]
  },
  {
   "cell_type": "markdown",
   "metadata": {},
   "source": [
    "### [YOLO Train Settings](https://docs.ultralytics.com/modes/train/#resuming-interrupted-trainings:~:text=a%20training%20run.-,Train%20Settings,-The%20training%20settings)"
   ]
  },
  {
   "cell_type": "code",
   "execution_count": null,
   "metadata": {},
   "outputs": [],
   "source": [
    "# Initialize WandB\n",
    "project=\"human_parsing\"\n",
    "\n",
    "wandb.init(project=project)\n",
    "\n",
    "# Load a model\n",
    "pretrained = \"weights/yolov8n-seg.pt\"\n",
    "pretrained = \"/home/jordan/SEGMENT/human_parsing/train17/weights/last.pt\"\n",
    "\n",
    "\n",
    "model = YOLO(\n",
    "    pretrained, task=\"segment\"\n",
    ")  # Load a pretrained model (recommended for training)\n",
    "\n",
    "# Load labels from YAML configuration file\n",
    "yaml_file = \"configs/fashion_people_detection.yml\"\n",
    "with open(yaml_file, 'r') as f:\n",
    "    config = yaml.safe_load(f)\n",
    "    class_labels = config['names']  # Adjust the key based on your YAML structure\n",
    "\n",
    "# Add WandB callback\n",
    "add_wandb_callback(model)\n",
    "\n",
    "# Set the batch size and number of workers\n",
    "bs = 36\n",
    "workers = os.cpu_count()\n",
    "\n",
    "# Train the model\n",
    "results = model.train(\n",
    "    project=project,\n",
    "    data=yaml_file,\n",
    "    epochs=2,\n",
    "    imgsz=1024,\n",
    "    batch=bs,\n",
    "    workers=workers,\n",
    "    augment=True,\n",
    "    device=[0],\n",
    "    patience=20,\n",
    "    save_period=5,\n",
    "    cache=True,\n",
    ")\n",
    "\n",
    "# Finish the W&B run\n",
    "wandb.finish()"
   ]
  }
 ],
 "metadata": {
  "kernelspec": {
   "display_name": "groundingdino",
   "language": "python",
   "name": "groundingdino"
  },
  "language_info": {
   "codemirror_mode": {
    "name": "ipython",
    "version": 3
   },
   "file_extension": ".py",
   "mimetype": "text/x-python",
   "name": "python",
   "nbconvert_exporter": "python",
   "pygments_lexer": "ipython3",
   "version": "3.10.12"
  },
  "orig_nbformat": 4
 },
 "nbformat": 4,
 "nbformat_minor": 2
}
