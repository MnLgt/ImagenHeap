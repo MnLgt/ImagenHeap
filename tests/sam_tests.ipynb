{
 "cells": [
  {
   "cell_type": "code",
   "execution_count": null,
   "metadata": {},
   "outputs": [],
   "source": [
    "import sys \n",
    "sys.path.append('..')"
   ]
  },
  {
   "cell_type": "code",
   "execution_count": null,
   "metadata": {},
   "outputs": [],
   "source": [
    "from segment.sam_script import * \n",
    "from segment.dino_script import get_dino_results\n",
    "from segment.utils import load_resize_image\n",
    "import torch \n",
    "from segment.utils import unload_mask\n",
    "from segment.utils import overlay_mask \n"
   ]
  },
  {
   "cell_type": "code",
   "execution_count": null,
   "metadata": {},
   "outputs": [],
   "source": [
    "\n",
    "sam_model = get_sam_model()"
   ]
  },
  {
   "cell_type": "code",
   "execution_count": null,
   "metadata": {},
   "outputs": [],
   "source": [
    "url = \"https://i.pinimg.com/originals/f0/72/20/f072205304f54c828b279f9cfdee5548.jpg\"\n"
   ]
  },
  {
   "cell_type": "code",
   "execution_count": null,
   "metadata": {},
   "outputs": [],
   "source": [
    "image = load_resize_image(url, 1024)\n",
    "text_prompt = 'leg'\n",
    "print(f\"Prompt: {text_prompt}\")\n",
    "image.resize((300,300))"
   ]
  },
  {
   "cell_type": "code",
   "execution_count": null,
   "metadata": {},
   "outputs": [],
   "source": [
    "df = get_dino_results([image], text_prompt)"
   ]
  },
  {
   "cell_type": "code",
   "execution_count": null,
   "metadata": {},
   "outputs": [],
   "source": [
    "df.asdict()"
   ]
  },
  {
   "cell_type": "code",
   "execution_count": null,
   "metadata": {},
   "outputs": [],
   "source": [
    "with torch.no_grad():\n",
    "    # dino_images = torch.stack([transform_image_dino(image) for image in images])\n",
    "    sam_images = torch.stack([sam_transform_image(im) for im in [image]])\n",
    "\n",
    "    # dino_images = dino_images.to(DEVICE)\n",
    "    sam_images = sam_images.to(DEVICE)"
   ]
  },
  {
   "cell_type": "code",
   "execution_count": null,
   "metadata": {},
   "outputs": [],
   "source": [
    "sam_outputs = sam_detect(sam_model, sam_images, df.boxes)"
   ]
  },
  {
   "cell_type": "code",
   "execution_count": null,
   "metadata": {},
   "outputs": [],
   "source": [
    "output = {}\n",
    "\n",
    "total = len(sam_outputs[0].get('masks'))\n",
    "\n",
    "for row in range(0,total):\n",
    "    mask = sam_outputs[0].get('masks')[row]\n",
    "    iou = sam_outputs[0].get('iou_predictions')[row]\n",
    "    low_res = sam_outputs[0].get('low_res_logits')[row]\n",
    "    \n",
    "    \n",
    "    output[row] = {\n",
    "        \"mask\": unload_mask(mask),\n",
    "        \"iou\": iou.item(),\n",
    "        \"low_res\": low_res,\n",
    "    }"
   ]
  },
  {
   "cell_type": "code",
   "execution_count": null,
   "metadata": {},
   "outputs": [],
   "source": [
    "num = 1\n",
    "row = output[0]\n",
    "\n",
    "mask = row.get('masks')[num]\n",
    "score = row.get('scores')[num]\n",
    "\n",
    "print(score)\n",
    "overlay_mask(image, mask).resize((400,400))"
   ]
  },
  {
   "cell_type": "code",
   "execution_count": null,
   "metadata": {},
   "outputs": [],
   "source": []
  }
 ],
 "metadata": {
  "kernelspec": {
   "display_name": "groundingdino",
   "language": "python",
   "name": "groundingdino"
  },
  "language_info": {
   "codemirror_mode": {
    "name": "ipython",
    "version": 3
   },
   "file_extension": ".py",
   "mimetype": "text/x-python",
   "name": "python",
   "nbconvert_exporter": "python",
   "pygments_lexer": "ipython3",
   "version": "3.10.12"
  },
  "orig_nbformat": 4
 },
 "nbformat": 4,
 "nbformat_minor": 2
}
