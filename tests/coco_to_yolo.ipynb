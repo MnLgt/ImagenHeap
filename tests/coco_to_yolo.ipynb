{
 "cells": [
  {
   "cell_type": "code",
   "execution_count": null,
   "metadata": {},
   "outputs": [],
   "source": [
    "import sys\n",
    "\n",
    "sys.path.append(\"..\")\n",
    "\n",
    "import os\n",
    "from datasets import load_dataset\n",
    "from segment.visualizer import display_image_with_masks_and_boxes\n",
    "from segment.utils import resize_image_pil, convert_coco_polygons_to_mask\n",
    "from create_dataset import filter_list_in_column\n",
    "from PIL import Image\n",
    "from segment.utils import *\n",
    "\n",
    "\n",
    "# The number of workers for the dataloader\n",
    "num_workers = os.cpu_count()\n",
    "\n",
    "# The directory for hugging face cache\n",
    "cache_dir = \"hf_cache\"\n",
    "\n",
    "# The image dataset ID and split to load\n",
    "dataset_id = \"MnLgt/fashion_people_detections_v2\"\n",
    "\n",
    "split = \"train\"\n",
    "ds = load_dataset(\n",
    "    dataset_id,\n",
    "    split=split,\n",
    "    trust_remote_code=True,\n",
    "    cache_dir=cache_dir,\n",
    "    streaming=True,\n",
    ")\n",
    "rows = iter(ds)\n",
    "row = next(rows)\n",
    "\n",
    "\n",
    "def poly_to_mask(row, height=1024, width=1024):\n",
    "    poly = row[\"polygons\"]\n",
    "    mask = convert_coco_polygons_to_mask(poly, height, width)\n",
    "    row[\"mask\"] = Image.fromarray(mask)\n",
    "    return row\n",
    "\n",
    "\n",
    "def add_mask_to_md(md):\n",
    "    return [poly_to_mask(row) for row in md]\n",
    "\n",
    "\n",
    "row = next(rows)\n",
    "image = resize_image_pil(row[\"image\"])\n",
    "md = row[\"metadata\"]\n",
    "md = add_mask_to_md(md)\n",
    "display_image_with_masks_and_boxes(image, md, prompt_label=\"label\")"
   ]
  },
  {
   "cell_type": "code",
   "execution_count": null,
   "metadata": {},
   "outputs": [],
   "source": [
    "from utils.convert.coco_to_yolo.coco_to_yolo import coco_to_yolo"
   ]
  },
  {
   "cell_type": "code",
   "execution_count": null,
   "metadata": {},
   "outputs": [],
   "source": [
    "def get_lines(md, image_width, image_height):\n",
    "    lines = []\n",
    "    for row in md:\n",
    "        label_id = row.get(\"label_id\")\n",
    "        \n",
    "        # Get the coco polygons\n",
    "        coco_polygons = row.get(\"polygons\")\n",
    "        \n",
    "        # Convert the coco polygons to yolo format\n",
    "        yolo_polygons = coco_to_yolo(coco_polygons, image_width, image_height)\n",
    "        \n",
    "        # Convert the yolo polygons to a string\n",
    "        yolo_polygons_str = \" \".join([str(coord) for coord in yolo_polygons])\n",
    "        \n",
    "        # Create the yolo line\n",
    "        yolo_line = f\"{label_id} {yolo_polygons_str}\"\n",
    "\n",
    "        lines.append(yolo_line)\n",
    "\n",
    "    return lines"
   ]
  },
  {
   "cell_type": "code",
   "execution_count": null,
   "metadata": {},
   "outputs": [],
   "source": [
    "lines = get_lines(md, 1024, 1024)\n",
    "print(lines[1])"
   ]
  },
  {
   "cell_type": "code",
   "execution_count": 19,
   "metadata": {},
   "outputs": [
    {
     "name": "stdout",
     "output_type": "stream",
     "text": [
      "/Users/jordandavis/GitHub/SEGMENT/tests/dino_script.ipynb\n",
      "/Users/jordandavis/GitHub/SEGMENT/tests/dino_tests.ipynb\n",
      "/Users/jordandavis/GitHub/SEGMENT/tests/sam_script.ipynb\n",
      "/Users/jordandavis/GitHub/SEGMENT/tests/test_grounded_sam.ipynb\n",
      "/Users/jordandavis/GitHub/SEGMENT/tests/test_dataset.ipynb\n",
      "/Users/jordandavis/GitHub/SEGMENT/tests/coco_to_yolo.ipynb\n",
      "/Users/jordandavis/GitHub/SEGMENT/tests/yolo_inference.ipynb\n",
      "/Users/jordandavis/GitHub/SEGMENT/tests/sam_tests.ipynb\n"
     ]
    }
   ],
   "source": [
    "from pathlib import Path\n",
    "\n",
    "for file in Path.cwd().glob('*.ipynb'):\n",
    "    print(file)"
   ]
  },
  {
   "cell_type": "code",
   "execution_count": 20,
   "metadata": {},
   "outputs": [
    {
     "data": {
      "text/plain": [
       "PosixPath('/Users/jordandavis')"
      ]
     },
     "execution_count": 20,
     "metadata": {},
     "output_type": "execute_result"
    }
   ],
   "source": [
    "Path.home()"
   ]
  },
  {
   "cell_type": "code",
   "execution_count": 37,
   "metadata": {},
   "outputs": [
    {
     "data": {
      "text/plain": [
       "'../requirements.txt'"
      ]
     },
     "execution_count": 37,
     "metadata": {},
     "output_type": "execute_result"
    }
   ],
   "source": [
    "# hello.py\n",
    "\n",
    "from pathlib import Path\n",
    "\n",
    "d = Path(\"../requirements.txt\")\n",
    "d.__fspath__()"
   ]
  },
  {
   "cell_type": "code",
   "execution_count": null,
   "metadata": {},
   "outputs": [],
   "source": []
  }
 ],
 "metadata": {
  "kernelspec": {
   "display_name": "groundingdino",
   "language": "python",
   "name": "python3"
  },
  "language_info": {
   "codemirror_mode": {
    "name": "ipython",
    "version": 3
   },
   "file_extension": ".py",
   "mimetype": "text/x-python",
   "name": "python",
   "nbconvert_exporter": "python",
   "pygments_lexer": "ipython3",
   "version": "3.10.13"
  },
  "orig_nbformat": 4
 },
 "nbformat": 4,
 "nbformat_minor": 2
}
