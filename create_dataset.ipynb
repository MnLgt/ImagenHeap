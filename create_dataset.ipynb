{
 "cells": [
  {
   "cell_type": "code",
   "execution_count": null,
   "metadata": {},
   "outputs": [],
   "source": [
    "import sys\n",
    "\n",
    "sys.path.append(\"..\")\n",
    "\n",
    "import os \n",
    "from create_dataset import CreateSegmentationDataset, get_labels_dict\n",
    "from segment.utils import get_device\n",
    "from datasets import load_dataset\n",
    "from create_dataset import filter_list_in_column\n",
    "\n",
    "# disable datasets.map progress bar\n",
    "from datasets.utils.logging import disable_progress_bar\n",
    "disable_progress_bar()\n",
    "\n",
    "os.environ[\"TOKENIZERS_PARALLELISM\"] = \"false\""
   ]
  },
  {
   "cell_type": "code",
   "execution_count": null,
   "metadata": {},
   "outputs": [],
   "source": [
    "# The number of images loaded on each batch\n",
    "batch_size = 512\n",
    "\n",
    "# The number of images processed on the gpu\n",
    "sub_batch_size = 8\n",
    "\n",
    "# The number of workers for the dataloader\n",
    "num_workers = os.cpu_count()\n",
    "\n",
    "# The directory for hugging face cache\n",
    "cache_dir = \"hf_cache\"\n",
    "\n",
    "# The image dataset ID and split to load\n",
    "dataset_id = \"MnLgt/fashion_num_people\"\n",
    "split = \"train\"\n",
    "\n",
    "# The labels from the yolo config file\n",
    "config_path = \"configs/fashion_people_detection_no_person.yml\"\n",
    "\n",
    "# Thresholds for dino and sam\n",
    "box_threshold = 0.3\n",
    "iou_threshold = 0.8\n",
    "text_threshold = 0.35"
   ]
  },
  {
   "cell_type": "code",
   "execution_count": 47,
   "metadata": {},
   "outputs": [],
   "source": [
    "ds = load_dataset(\n",
    "    dataset_id,\n",
    "    split=split,\n",
    "    trust_remote_code=True,\n",
    "    cache_dir=cache_dir,\n",
    "    streaming=False,\n",
    "    num_proc=num_workers,\n",
    ")\n",
    "ds.num_rows"
   ]
  },
  {
   "cell_type": "code",
   "execution_count": null,
   "metadata": {},
   "outputs": [],
   "source": [
    "\n",
    "# Filter for images with one person\n",
    "a = ds['num_people']\n",
    "b = [i for i, x in enumerate(a) if x > 0]\n",
    "c = ds.select(b)\n",
    "ds = c\n",
    "ds.num_rows"
   ]
  },
  {
   "cell_type": "code",
   "execution_count": null,
   "metadata": {},
   "outputs": [],
   "source": [
    "len(ds)"
   ]
  },
  {
   "cell_type": "code",
   "execution_count": null,
   "metadata": {},
   "outputs": [],
   "source": [
    "p = CreateSegmentationDataset(ds, config_path, bs=batch_size, sub_bs=sub_batch_size, box_threshold=box_threshold, text_threshold=text_threshold, iou_threshold=iou_threshold)"
   ]
  },
  {
   "cell_type": "code",
   "execution_count": null,
   "metadata": {},
   "outputs": [],
   "source": [
    "p.process()"
   ]
  },
  {
   "cell_type": "code",
   "execution_count": null,
   "metadata": {},
   "outputs": [],
   "source": [
    "# remove any items from the md lists that are empty\n",
    "def remove_none(item):\n",
    "    return bool(item)\n",
    "\n",
    "p.processed_ds = filter_list_in_column(p.processed_ds, 'metadata', remove_none)\n",
    "\n",
    "# filter items with a score\n",
    "p.filter_scores(score_cutoff=0.8)"
   ]
  },
  {
   "cell_type": "code",
   "execution_count": null,
   "metadata": {},
   "outputs": [],
   "source": [
    "p.processed_ds"
   ]
  },
  {
   "cell_type": "code",
   "execution_count": null,
   "metadata": {},
   "outputs": [],
   "source": [
    "\n"
   ]
  },
  {
   "cell_type": "code",
   "execution_count": null,
   "metadata": {},
   "outputs": [],
   "source": [
    "p.check_results()"
   ]
  },
  {
   "cell_type": "code",
   "execution_count": null,
   "metadata": {},
   "outputs": [],
   "source": []
  },
  {
   "cell_type": "code",
   "execution_count": null,
   "metadata": {},
   "outputs": [],
   "source": []
  }
 ],
 "metadata": {
  "kernelspec": {
   "display_name": "groundingdino",
   "language": "python",
   "name": "groundingdino"
  },
  "language_info": {
   "codemirror_mode": {
    "name": "ipython",
    "version": 3
   },
   "file_extension": ".py",
   "mimetype": "text/x-python",
   "name": "python",
   "nbconvert_exporter": "python",
   "pygments_lexer": "ipython3",
   "version": "3.10.12"
  },
  "orig_nbformat": 4
 },
 "nbformat": 4,
 "nbformat_minor": 2
}
