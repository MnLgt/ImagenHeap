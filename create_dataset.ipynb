{
 "cells": [
  {
   "cell_type": "code",
   "execution_count": null,
   "metadata": {},
   "outputs": [],
   "source": [
    "import sys\n",
    "\n",
    "sys.path.append(\"..\")\n",
    "\n",
    "import os \n",
    "from create_dataset import CreateSegmentationDataset, get_labels_dict\n",
    "from segment.utils import get_device\n",
    "from datasets import load_dataset\n",
    "\n",
    "# disable datasets.map progress bar\n",
    "from datasets.utils.logging import disable_progress_bar\n",
    "disable_progress_bar()\n",
    "\n",
    "os.environ[\"TOKENIZERS_PARALLELISM\"] = \"false\""
   ]
  },
  {
   "cell_type": "code",
   "execution_count": null,
   "metadata": {},
   "outputs": [],
   "source": [
    "# Set the cache dir\n",
    "cache_dir = \"hf_cache\"\n",
    "\n",
    "# Torch Settings\n",
    "batch_size = 8\n",
    "num_workers = os.cpu_count()\n",
    "device = get_device()\n",
    "\n",
    "# Get the labels from the yolo config file\n",
    "config_path = \"configs/fashion_people_detection_no_person.yml\"\n",
    "\n",
    "# Get the labels from the config file\n",
    "labels_dict = get_labels_dict(config_path)\n",
    "labels = [k for k, v in labels_dict.items()]\n",
    "text_prompt = \" . \".join(labels)\n",
    "print(f\"Labels To Use: {text_prompt}\")\n",
    "\n",
    "# Enter the dataset ID and load it as a torch dataset\n",
    "dataset_id = \"MnLgt/fashion_people_detections\"\n",
    "split = \"train[:100]\"\n",
    "\n",
    "# Enter the repo name to push the new dataset to\n",
    "new_repo_id = \"MnLgt/fashion_people_detections_new\""
   ]
  },
  {
   "cell_type": "code",
   "execution_count": null,
   "metadata": {},
   "outputs": [],
   "source": [
    "ds = load_dataset(\n",
    "    dataset_id,\n",
    "    split=split,\n",
    "    trust_remote_code=True,\n",
    "    cache_dir=\"hf_cache\",\n",
    "    streaming=False,\n",
    "    num_proc=num_workers\n",
    ")"
   ]
  },
  {
   "cell_type": "code",
   "execution_count": null,
   "metadata": {},
   "outputs": [],
   "source": [
    "p = CreateSegmentationDataset(ds, config_path)"
   ]
  },
  {
   "cell_type": "code",
   "execution_count": null,
   "metadata": {},
   "outputs": [],
   "source": [
    "p.process()"
   ]
  },
  {
   "cell_type": "code",
   "execution_count": null,
   "metadata": {},
   "outputs": [],
   "source": [
    "from create_dataset import filter_list_in_column\n",
    "\n",
    "def remove_none(item):\n",
    "    return bool(item)\n",
    "\n",
    "p.processed_ds = filter_list_in_column(p.processed_ds, 'metadata', remove_none)"
   ]
  },
  {
   "cell_type": "code",
   "execution_count": null,
   "metadata": {},
   "outputs": [],
   "source": [
    "p.check_results()"
   ]
  },
  {
   "cell_type": "code",
   "execution_count": null,
   "metadata": {},
   "outputs": [],
   "source": []
  }
 ],
 "metadata": {
  "kernelspec": {
   "display_name": "groundingdino",
   "language": "python",
   "name": "groundingdino"
  },
  "language_info": {
   "codemirror_mode": {
    "name": "ipython",
    "version": 3
   },
   "file_extension": ".py",
   "mimetype": "text/x-python",
   "name": "python",
   "nbconvert_exporter": "python",
   "pygments_lexer": "ipython3",
   "version": "3.10.12"
  },
  "orig_nbformat": 4
 },
 "nbformat": 4,
 "nbformat_minor": 2
}
